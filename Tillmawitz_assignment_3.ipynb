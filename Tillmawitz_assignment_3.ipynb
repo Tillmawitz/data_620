{
 "cells": [
  {
   "cell_type": "markdown",
   "id": "9881bab7",
   "metadata": {},
   "source": [
    "# Assignment 3\n",
    "\n",
    "## Matthew Tillmawitz"
   ]
  },
  {
   "cell_type": "markdown",
   "id": "a457061d",
   "metadata": {},
   "source": [
    "For this assignment we will generate some basic measurements of a graph. The graph is generated from the [Contiguous USA](http://konect.cc/networks/contiguous-usa/) dataset from the Konect project which represents the contiguous US states and District of Columbia with states as nodes and edges indicating states that border each other."
   ]
  },
  {
   "cell_type": "code",
   "execution_count": null,
   "id": "f88a7969",
   "metadata": {},
   "outputs": [],
   "source": [
    "import networkx as nx\n",
    "import matplotlib.pyplot as plt\n",
    "import scipy"
   ]
  },
  {
   "cell_type": "code",
   "execution_count": null,
   "id": "805b3e2d",
   "metadata": {},
   "outputs": [],
   "source": [
    "G = nx.read_edgelist(\"/Users/matttillman/School/data_620/data/out.contiguous-usa\")"
   ]
  },
  {
   "cell_type": "markdown",
   "id": "e88fee0f",
   "metadata": {},
   "source": [
    "The density of 0.091 indicates the ratio of actual edges to possible edges is fairly low, telling us that the graph is loosely connected. This combined with the average degree of 4.37 and average shortest path length of 4.16 can tell us a lot about the graph. The average degree is the average number of connections per node, and the relatively low number reinforces the loose nature of the graph. The average shortest path length indicates that while the graph is not particularly dense, it is well connected meaning most nodes are relatively \"close\" to each other. The diameter of 11 alongside our other metrics indicates that while on average most nodes are well connected there are some nodes that are highly spread from each other. These conclusions make intuitive sense given what we know about the United States, with many large states in the West and Midwest allowing for high degrees of connectivity due to the large area covered while the small states in the Northeast lend themselves to longer paths. Additionally, the coasts obviously share no connections leading to the large diameter as compared to the average degree and shortest path length."
   ]
  },
  {
   "cell_type": "code",
   "execution_count": null,
   "id": "e48e5d6d",
   "metadata": {},
   "outputs": [
    {
     "name": "stdout",
     "output_type": "stream",
     "text": [
      "Number of nodes: 49\n",
      "Number of edges: 107\n",
      "Density: 0.0910\n",
      "Diameter: 11\n",
      "Average shortest path length 4.16\n",
      "Average degree: 4.37\n"
     ]
    }
   ],
   "source": [
    "print(f\"Number of nodes: {G.number_of_nodes()}\")\n",
    "print(f\"Number of edges: {G.number_of_edges()}\")\n",
    "print(f\"Density: {nx.density(G):.4f}\")\n",
    "\n",
    "print(f\"Diameter: {nx.diameter(G)}\")\n",
    "print(f\"Average shortest path length {nx.average_shortest_path_length(G):.2f}\")\n",
    "degrees = dict(G.degree())\n",
    "print(f\"Average degree: {sum(degrees.values()) / len(degrees):.2f}\")"
   ]
  }
 ],
 "metadata": {
  "kernelspec": {
   "display_name": "data_620_base",
   "language": "python",
   "name": "python3"
  },
  "language_info": {
   "codemirror_mode": {
    "name": "ipython",
    "version": 3
   },
   "file_extension": ".py",
   "mimetype": "text/x-python",
   "name": "python",
   "nbconvert_exporter": "python",
   "pygments_lexer": "ipython3",
   "version": "3.13.5"
  }
 },
 "nbformat": 4,
 "nbformat_minor": 5
}
