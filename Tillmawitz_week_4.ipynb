{
 "cells": [
  {
   "cell_type": "markdown",
   "id": "be106a01",
   "metadata": {},
   "source": [
    "# Week 4 - Assignment Centrality Measures\n",
    "\n",
    "Matthew Tillmawitz"
   ]
  },
  {
   "cell_type": "markdown",
   "id": "246d472c",
   "metadata": {},
   "source": [
    "The [Internet-Industry-Partnerships dataset](https://networkrepository.com/internet-industry-partnerships.php) represents the connections made between different types of servers. The nodes each represent one of three different server types: content, infrastructure, and commerce. The data is already formatted as a graph, so loading the data into a Networkx graph for analysis is straightforward. Analysing the degree of the different nodes can be useful when determining size of the servers needed as well as configuring the connection pooling strategy used by the different types of nodes. Knowing the expected number of connections a server of a given type will need to handle allows for better baseline infrastructure sizing and connection pool configuration for the kind of traffic a new node would likely recieve, decreasing the odds of a node getting overwhelmed with traffic or being oversized and incurring higher costs than needed. A possible outcome may be that the infrastructure nodes have a higher average centrality degree than the other two types, indicating they would benefit from a more sophisticated connection pooling strategy to better utilize their available resources while the content or commerce nodes may function fine with a simpler default."
   ]
  }
 ],
 "metadata": {
  "kernelspec": {
   "display_name": "data_620_base",
   "language": "python",
   "name": "python3"
  },
  "language_info": {
   "name": "python",
   "version": "3.13.5"
  }
 },
 "nbformat": 4,
 "nbformat_minor": 5
}
